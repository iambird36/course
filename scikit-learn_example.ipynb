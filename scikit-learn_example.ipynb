{
 "cells": [
  {
   "cell_type": "markdown",
   "metadata": {},
   "source": [
    "# Install scikit-learn\n"
   ]
  },
  {
   "cell_type": "markdown",
   "metadata": {},
   "source": [
    "`pip install scikit-learn`"
   ]
  },
  {
   "cell_type": "markdown",
   "metadata": {},
   "source": [
    "# Load CSV file"
   ]
  },
  {
   "cell_type": "code",
   "execution_count": 1,
   "metadata": {},
   "outputs": [
    {
     "name": "stdout",
     "output_type": "stream",
     "text": [
      "   size  number_room  house_price house_type\n",
      "0  40.0          3.0          800        old\n",
      "1  29.0          5.0          700      young\n",
      "2  33.0          2.0          670      young\n",
      "3   NaN          2.0          770        old\n",
      "4   NaN          NaN          870      young\n",
      "(5, 4)\n",
      "[ 3.  5.  2.  2. nan]\n"
     ]
    }
   ],
   "source": [
    "import pandas as pd\n",
    "\n",
    "# load csv file\n",
    "df = pd.read_csv('demo.csv')\n",
    "\n",
    "# load csv file without header\n",
    "#df = pd.read_csv('demo.csv', header=None)\n",
    "\n",
    "# print dataframe\n",
    "print(df)\n",
    "\n",
    "# print dataframe shape\n",
    "print(df.shape)\n",
    "\n",
    "# print column\n",
    "print(df['number_room'].values)"
   ]
  },
  {
   "cell_type": "markdown",
   "metadata": {},
   "source": [
    "# Missing value"
   ]
  },
  {
   "cell_type": "code",
   "execution_count": 2,
   "metadata": {},
   "outputs": [
    {
     "name": "stdout",
     "output_type": "stream",
     "text": [
      "origin dataframe\n",
      "   size  number_room  house_price house_type\n",
      "0  40.0          3.0          800        old\n",
      "1  29.0          5.0          700      young\n",
      "2  33.0          2.0          670      young\n",
      "3   NaN          2.0          770        old\n",
      "4   NaN          NaN          870      young\n",
      "drop row that contain any missing value\n",
      "   size  number_room  house_price house_type\n",
      "0  40.0          3.0          800        old\n",
      "1  29.0          5.0          700      young\n",
      "2  33.0          2.0          670      young\n",
      "fill missing value with mean\n",
      "   size  number_room  house_price house_type\n",
      "0  40.0          3.0          800        old\n",
      "1  29.0          5.0          700      young\n",
      "2  33.0          2.0          670      young\n",
      "3  34.0          2.0          770        old\n",
      "4  34.0          NaN          870      young\n"
     ]
    }
   ],
   "source": [
    "import pandas as pd\n",
    "\n",
    "# load csv file\n",
    "df = pd.read_csv('demo.csv')\n",
    "\n",
    "print('origin dataframe')\n",
    "print(df)\n",
    "\n",
    "print('drop row that contain any missing value')\n",
    "# drop row that contain any missing value\n",
    "df_no_missing = df.dropna()\n",
    "print(df_no_missing)\n",
    "\n",
    "print('fill missing value with mean')\n",
    "# fill missing value with mean \n",
    "df[\"size\"].fillna(df[\"size\"].mean(), inplace=True)\n",
    "print(df)"
   ]
  },
  {
   "cell_type": "markdown",
   "metadata": {},
   "source": [
    "# Encoding categorical features"
   ]
  },
  {
   "cell_type": "code",
   "execution_count": 3,
   "metadata": {},
   "outputs": [
    {
     "name": "stdout",
     "output_type": "stream",
     "text": [
      "origin dataframe\n",
      "   size  number_room  house_price house_type\n",
      "0  40.0          3.0          800        old\n",
      "1  29.0          5.0          700      young\n",
      "2  33.0          2.0          670      young\n",
      "3   NaN          2.0          770        old\n",
      "4   NaN          NaN          870      young\n",
      "encode category\n",
      "   size  number_room  house_price  house_type\n",
      "0  40.0          3.0          800           0\n",
      "1  29.0          5.0          700           1\n",
      "2  33.0          2.0          670           1\n",
      "3   NaN          2.0          770           0\n",
      "4   NaN          NaN          870           1\n"
     ]
    }
   ],
   "source": [
    "import pandas as pd\n",
    "\n",
    "# load csv file\n",
    "df = pd.read_csv('demo.csv')\n",
    "\n",
    "print('origin dataframe')\n",
    "print(df)\n",
    "\n",
    "print('encode category')\n",
    "df['house_type'] = pd.Categorical(df['house_type']).codes\n",
    "print(df)"
   ]
  },
  {
   "cell_type": "markdown",
   "metadata": {},
   "source": [
    "# Change dataframe into numpy arrray"
   ]
  },
  {
   "cell_type": "code",
   "execution_count": 5,
   "metadata": {},
   "outputs": [
    {
     "name": "stdout",
     "output_type": "stream",
     "text": [
      "change dataframe to numpy array\n",
      "[[40.0 3.0 800 'old']\n",
      " [29.0 5.0 700 'young']\n",
      " [33.0 2.0 670 'young']\n",
      " [nan 2.0 770 'old']\n",
      " [nan nan 870 'young']]\n",
      "change numpy array to dataframe\n",
      "     0    1    2      3\n",
      "0   40    3  800    old\n",
      "1   29    5  700  young\n",
      "2   33    2  670  young\n",
      "3  NaN    2  770    old\n",
      "4  NaN  NaN  870  young\n"
     ]
    }
   ],
   "source": [
    "import pandas as pd\n",
    "import numpy  as np\n",
    "# load csv file\n",
    "df = pd.read_csv('demo.csv')\n",
    "\n",
    "print('change dataframe to numpy array')\n",
    "numpy_array = np.array(df)\n",
    "print(numpy_array)\n",
    "\n",
    "print('change numpy array to dataframe')\n",
    "df_from_numpy = pd.DataFrame(numpy_array)\n",
    "print(df_from_numpy)\n"
   ]
  },
  {
   "cell_type": "markdown",
   "metadata": {},
   "source": [
    "# Split data"
   ]
  },
  {
   "cell_type": "code",
   "execution_count": 6,
   "metadata": {},
   "outputs": [
    {
     "name": "stdout",
     "output_type": "stream",
     "text": [
      "before splitting......\n",
      "x: [[ 0  1]\n",
      " [ 2  3]\n",
      " [ 4  5]\n",
      " [ 6  7]\n",
      " [ 8  9]\n",
      " [10 11]\n",
      " [12 13]\n",
      " [14 15]\n",
      " [16 17]\n",
      " [18 19]]\n",
      "\n",
      "y: [0 1 2 3 4 5 6 7 8 9]\n",
      "\n",
      "shape of x: (10, 2)\n",
      "shape of y: (10,)\n",
      "\n",
      "after splitting......\n",
      "x_train: [[ 8  9]\n",
      " [ 0  1]\n",
      " [16 17]\n",
      " [14 15]\n",
      " [12 13]\n",
      " [ 4  5]\n",
      " [10 11]]\n",
      "\n",
      "x_test: [[18 19]\n",
      " [ 2  3]\n",
      " [ 6  7]]\n",
      "\n",
      "y_train: [4 0 8 7 6 2 5]\n",
      "\n",
      "y_test: [9 1 3]\n",
      "\n"
     ]
    }
   ],
   "source": [
    "import numpy as np\n",
    "from sklearn.model_selection import train_test_split\n",
    "\n",
    "x, y = np.arange(20).reshape((10, 2)), np.arange(10)\n",
    "\n",
    "print('before splitting......')\n",
    "\n",
    "print(\"x: {}\\n\".format(x))\n",
    "print(\"y: {}\\n\".format(y))\n",
    "\n",
    "print(\"shape of x: {}\".format(x.shape))\n",
    "print(\"shape of y: {}\\n\".format(y.shape))\n",
    "\n",
    "x_train, x_test, y_train, y_test = train_test_split(x, y, test_size=0.3)\n",
    "print('after splitting......')\n",
    "\n",
    "print(\"x_train: {}\\n\".format(x_train))\n",
    "print(\"x_test: {}\\n\".format(x_test))\n",
    "\n",
    "print(\"y_train: {}\\n\".format(y_train))\n",
    "print(\"y_test: {}\\n\".format(y_test))"
   ]
  },
  {
   "cell_type": "markdown",
   "metadata": {},
   "source": [
    "# Preprocessing Data"
   ]
  },
  {
   "cell_type": "markdown",
   "metadata": {},
   "source": [
    "## Standardize data into zero mean and unit std"
   ]
  },
  {
   "cell_type": "code",
   "execution_count": 7,
   "metadata": {},
   "outputs": [
    {
     "name": "stdout",
     "output_type": "stream",
     "text": [
      "mean of x_train: [4.00000000e+02 0.00000000e+00 3.33333333e-01]\n",
      "std of x_train: [355.9026084    0.81649658   1.24721913]\n",
      "\n",
      "mean of x_scale: [4.00000000e+02 0.00000000e+00 3.33333333e-01]\n",
      "std of x_scale: [355.9026084    0.81649658   1.24721913]\n",
      "\n",
      "after standardiztion......\n",
      "x_train: [[-0.84292723 -1.22474487  1.33630621]\n",
      " [ 1.40487872  0.         -0.26726124]\n",
      " [-0.56195149  1.22474487 -1.06904497]]\n",
      "apply same mean and std to new data(test data)\n",
      "\n",
      "x_test: [[-1.12671273  1.22474487 -0.26726124]]\n"
     ]
    }
   ],
   "source": [
    "from sklearn import preprocessing\n",
    "import numpy as np\n",
    "\n",
    "x_train = np.array([[ 100., -1.,  2.],\n",
    "                    [ 900.,  0.,  0.],\n",
    "                    [ 200.,  1., -1.]])\n",
    "\n",
    "\n",
    "print(\"mean of x_train: {}\".format(x_train.mean(axis=0)))\n",
    "print(\"std of x_train: {}\\n\".format(x_train.std(axis=0)))\n",
    "\n",
    "\n",
    "scaler = preprocessing.StandardScaler().fit(x_train)\n",
    "\n",
    "print(\"mean of x_scale: {}\".format(scaler.mean_))\n",
    "print(\"std of x_scale: {}\\n\".format(scaler.scale_))\n",
    "\n",
    "# apply mean and std to standardize data\n",
    "x_train = scaler.transform(x_train)\n",
    "\n",
    "print(\"after standardiztion......\")\n",
    "print('x_train: {}'.format(x_train))\n",
    "\n",
    "\n",
    "x_test = np.array([[-1., 1., 0.]])\n",
    "print(\"apply same mean and std to new data(test data)\\n\")\n",
    "\n",
    "x_test = scaler.transform(x_test)\n",
    "print('x_test: {}'.format(x_test))\n",
    "\n"
   ]
  },
  {
   "cell_type": "markdown",
   "metadata": {},
   "source": [
    "## Standardize data into a range"
   ]
  },
  {
   "cell_type": "code",
   "execution_count": 8,
   "metadata": {},
   "outputs": [
    {
     "name": "stdout",
     "output_type": "stream",
     "text": [
      "after standardiztion......\n",
      "x_train: [[0.5        0.         1.        ]\n",
      " [1.         0.5        0.33333333]\n",
      " [0.         1.         0.        ]]\n",
      "apply same transformation to new data(test data)\n",
      "\n",
      "x_test: [[-1.5         0.          1.66666667]]\n"
     ]
    }
   ],
   "source": [
    "from sklearn import preprocessing\n",
    "import numpy as np\n",
    "\n",
    "x_train = np.array([[ 1., -1.,  2.],\n",
    "                    [ 2.,  0.,  0.],\n",
    "                    [ 0.,  1., -1.]])\n",
    "\n",
    "scaler = preprocessing.MinMaxScaler().fit(x_train)\n",
    "x_train = scaler.transform(x_train)\n",
    "\n",
    "print(\"after standardiztion......\")\n",
    "print('x_train: {}'.format(x_train))\n",
    "\n",
    "\n",
    "x_test = np.array([[ -3., -1.,  4.]])\n",
    "print(\"apply same transformation to new data(test data)\\n\")\n",
    "\n",
    "x_test = scaler.transform(x_test)\n",
    "print('x_test: {}'.format(x_test))"
   ]
  },
  {
   "cell_type": "markdown",
   "metadata": {},
   "source": [
    "# Evaluate Result"
   ]
  },
  {
   "cell_type": "code",
   "execution_count": 9,
   "metadata": {},
   "outputs": [
    {
     "name": "stdout",
     "output_type": "stream",
     "text": [
      "Mean squared error: 0.4\n",
      "r2 score: -0.6666666666666665\n",
      "number of correct sample: 3\n",
      "accuracy: 0.6\n",
      "confusion matrix: [[2 1]\n",
      " [1 1]]\n"
     ]
    }
   ],
   "source": [
    "from sklearn.metrics import mean_squared_error, r2_score, accuracy_score, confusion_matrix\n",
    "\n",
    "y_test = [0, 1, 0 , 1, 0]\n",
    "y_pred = [1, 0, 0 , 1, 0]\n",
    "\n",
    "mse = mean_squared_error(y_test, y_pred)\n",
    "r2 = r2_score(y_test, y_pred)\n",
    "accuracy = accuracy_score(y_test, y_pred)\n",
    "num_correct_samples = accuracy_score(y_test, y_pred, normalize=False)\n",
    "con_matrix = confusion_matrix(y_test, y_pred)\n",
    "\n",
    "\n",
    "print(\"Mean squared error: {}\".format(mse))\n",
    "print('r2 score: {}'.format(r2))\n",
    "print('number of correct sample: {}'.format(num_correct_samples))\n",
    "print('accuracy: {}'.format(accuracy))\n",
    "print('confusion matrix: {}'.format(con_matrix))"
   ]
  },
  {
   "cell_type": "markdown",
   "metadata": {},
   "source": [
    "# Kaggle Introduction"
   ]
  },
  {
   "cell_type": "markdown",
   "metadata": {},
   "source": [
    "kaggle website: https://www.kaggle.com/  \n",
    "kaggle api: https://github.com/Kaggle/kaggle-api"
   ]
  },
  {
   "cell_type": "markdown",
   "metadata": {
    "collapsed": true
   },
   "source": []
  },
  {
   "cell_type": "code",
   "execution_count": null,
   "metadata": {},
   "outputs": [],
   "source": [
    "                    "
   ]
  },
  {
   "cell_type": "code",
   "execution_count": null,
   "metadata": {},
   "outputs": [],
   "source": []
  }
 ],
 "metadata": {
  "kernelspec": {
   "display_name": "Python 3",
   "language": "python",
   "name": "python3"
  },
  "language_info": {
   "codemirror_mode": {
    "name": "ipython",
    "version": 3
   },
   "file_extension": ".py",
   "mimetype": "text/x-python",
   "name": "python",
   "nbconvert_exporter": "python",
   "pygments_lexer": "ipython3",
   "version": "3.7.6"
  }
 },
 "nbformat": 4,
 "nbformat_minor": 2
}
