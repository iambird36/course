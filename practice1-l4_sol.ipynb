{
 "cells": [
  {
   "cell_type": "markdown",
   "metadata": {},
   "source": [
    "# Beautifulsoup with Regular Expression Practice\n",
    "Please grab td tags where its content contain \"信義\" in the following link.  \n",
    "url: https://zh.wikipedia.org/wiki/%E4%B8%AD%E8%8F%AF%E6%B0%91%E5%9C%8B%E5%9C%8B%E7%AB%8B%E9%AB%98%E7%B4%9A%E4%B8%AD%E7%AD%89%E5%AD%B8%E6%A0%A1%E5%88%97%E8%A1%A8\n",
    "        "
   ]
  },
  {
   "cell_type": "code",
   "execution_count": 12,
   "metadata": {},
   "outputs": [
    {
     "name": "stdout",
     "output_type": "stream",
     "text": [
      "[<td>[106] 大安區和安里信義路三段143號\n",
      "</td>, <td>[712] 新化區信義路54號\n",
      "</td>, <td>[201] 信義區東信路324號\n",
      "</td>]\n",
      "<td>[106] 大安區和安里信義路三段143號\n",
      "</td>\n",
      "<td>[712] 新化區信義路54號\n",
      "</td>\n",
      "<td>[201] 信義區東信路324號\n",
      "</td>\n"
     ]
    }
   ],
   "source": [
    "import requests\n",
    "from bs4 import BeautifulSoup\n",
    "import re\n",
    "\n",
    "response = requests.get(\"https://zh.wikipedia.org/wiki/%E4%B8%AD%E8%8F%AF%E6%B0%91%E5%9C%8B%E5%9C%8B%E7%AB%8B%E9%AB%98%E7%B4%9A%E4%B8%AD%E7%AD%89%E5%AD%B8%E6%A0%A1%E5%88%97%E8%A1%A8\")\n",
    "\n",
    "soup = BeautifulSoup(response.text, 'html.parser')\n",
    "#print(soup.text)\n",
    "all_lis = soup.find_all(\"td\", text = re.compile(\"信義\"))\n",
    "print(all_lis)\n",
    "\n",
    "for li in all_lis:\n",
    "    print(li)"
   ]
  },
  {
   "cell_type": "markdown",
   "metadata": {},
   "source": [
    "# Crawl Image Practice\n",
    "Please download first business card on the  following link:  \n",
    "url: https://www.mrcaca.com/"
   ]
  },
  {
   "cell_type": "code",
   "execution_count": 2,
   "metadata": {},
   "outputs": [
    {
     "name": "stdout",
     "output_type": "stream",
     "text": [
      "[<img alt=\"logo\" class=\"logo\" src=\"/images/fimg/logo.png\"/>, <img alt=\"banner_small\" src=\"/images/fimg/banner.png\"/>, <img alt=\"banner\" src=\"images/fimg/banner_small.jpg\"/>, <img src=\"/images/template/A000107_small.png\"/>, <img src=\"/images/template/A000132_small.png\"/>, <img src=\"/images/template/A000025_small.png\"/>, <img src=\"/images/template/A000012_small.png\"/>, <img src=\"/images/template/A000163_small.png\"/>, <img src=\"/images/template/A000188_small.png\"/>, <img src=\"/images/template/A000095_small.png\"/>, <img src=\"/images/template/A000036_small.png\"/>, <img src=\"/images/template/A000031_small.png\"/>, <img src=\"/images/template/A000008_small.png\"/>, <img src=\"/images/template/A000093_small.png\"/>, <img src=\"/images/template/A000055_small.png\"/>, <img src=\"/images/template/A000109_small.png\"/>, <img src=\"/images/template/A000130_small.png\"/>, <img src=\"/images/template/A000119_small.png\"/>, <img src=\"/images/template/A000128_small.png\"/>, <img src=\"/images/template/A000046_small.png\"/>, <img src=\"/images/template/A000006_small.png\"/>, <img src=\"/images/template/point/A000166P_small.png\"/>, <img src=\"/images/template/point/A000002P_small.png\"/>, <img src=\"/images/template/point/A000148P_small.png\"/>, <img src=\"/images/template/point/A000200P_small.png\"/>, <img src=\"/images/template/point/A000017P_small.png\"/>, <img src=\"/images/template/point/A000013P_small.png\"/>, <img src=\"/images/template/point/A000039P_small.png\"/>, <img src=\"/images/template/point/A000063P_small.png\"/>, <img src=\"/images/template/point/A000003P_small.png\"/>, <img src=\"/images/template/point/A000167P_small.png\"/>, <img src=\"/images/template/point/A000081P_small.png\"/>, <img src=\"/images/template/point/A000203P_small.png\"/>, <img src=\"/images/template/point/A000040P_small.png\"/>, <img src=\"/images/template/point/A000160P_small.png\"/>, <img src=\"/images/template/point/A000163P_small.png\"/>, <img src=\"/images/template/point/A000144P_small.png\"/>, <img src=\"/images/template/point/A000116P_small.png\"/>, <img src=\"/images/template/point/A000169P_small.png\"/>, <img alt=\"獲獎獎狀\" src=\"/images/fimg/star.jpg\"/>]\n",
      "https://www.mrcaca.com//images/template/A000107_small.png\n"
     ]
    }
   ],
   "source": [
    "# -*- coding: utf-8 -*-\n",
    "import requests\n",
    "from bs4 import BeautifulSoup\n",
    "from urllib.request import urlretrieve\n",
    "\n",
    "url = 'https://www.mrcaca.com/'\n",
    "response = requests.get(url)\n",
    "response.encoding = 'utf-8'\n",
    "\n",
    "soup = BeautifulSoup(response.text, 'html.parser')\n",
    "#print(soup)\n",
    "all_imgs = soup.find_all('img')\n",
    "print(all_imgs)\n",
    "for index, img in enumerate(all_imgs):\n",
    "    if 'template' in img['src']: \n",
    "        print(url+img['src'])\n",
    "        urlretrieve(url+img['src'], img['src'].split('/')[-1])\n",
    "        break"
   ]
  },
  {
   "cell_type": "code",
   "execution_count": null,
   "metadata": {
    "collapsed": true
   },
   "outputs": [],
   "source": []
  }
 ],
 "metadata": {
  "kernelspec": {
   "display_name": "Python 3",
   "language": "python",
   "name": "python3"
  },
  "language_info": {
   "codemirror_mode": {
    "name": "ipython",
    "version": 3
   },
   "file_extension": ".py",
   "mimetype": "text/x-python",
   "name": "python",
   "nbconvert_exporter": "python",
   "pygments_lexer": "ipython3",
   "version": "3.7.6"
  }
 },
 "nbformat": 4,
 "nbformat_minor": 2
}
