{
 "cells": [
  {
   "cell_type": "markdown",
   "metadata": {},
   "source": [
    "# Crawl File Practice\n",
    "Please download 109 國文 past paper in following link(including 試題內容 and 選擇題答案):  \n",
    "url: https://www.go100.com.tw/exam_download_3.php"
   ]
  },
  {
   "cell_type": "code",
   "execution_count": 13,
   "metadata": {},
   "outputs": [],
   "source": [
    "# -*- coding: utf-8 -*-\n",
    "import requests\n",
    "from bs4 import BeautifulSoup\n",
    "from urllib.request import urlretrieve\n",
    "\n",
    "url='https://www.go100.com.tw/exam_download_3.php'\n",
    "response = requests.get(url)\n",
    "response.encoding = 'utf-8'\n",
    "\n",
    "soup = BeautifulSoup(response.text, 'html.parser')\n",
    "\n",
    "tr_tags = soup.find_all('tr')\n",
    "\n",
    "for i in tr_tags:\n",
    "    if '109' in i.text and '英　文' in i.text:\n",
    "        soup = BeautifulSoup(str(i), 'html.parser')\n",
    "        a_tags = soup.find_all('a')\n",
    "        print(a_tags)\n",
    "        for j in a_tags:\n",
    "            urlretrieve(j['href'], j.text+'.pdf')\n"
   ]
  },
  {
   "cell_type": "markdown",
   "metadata": {
    "collapsed": true
   },
   "source": [
    "# Crawl the following table in folllowing link  \n",
    "crawl \"亞洲股市指數行情\" table and save it as a csv file\n",
    "url: http://www.stockq.org/"
   ]
  },
  {
   "cell_type": "code",
   "execution_count": 14,
   "metadata": {},
   "outputs": [
    {
     "name": "stdout",
     "output_type": "stream",
     "text": [
      "           0         1         2         3         4\n",
      "0   亞洲股市指數行情  亞洲股市指數行情  亞洲股市指數行情  亞洲股市指數行情  亞洲股市指數行情\n",
      "1         股市        指數        漲跌        比例        當地\n",
      "2        紐西蘭  10711.29    -33.87    -0.32%     12:39\n",
      "3       澳洲股市   5468.30     50.30     0.93%     12:07\n",
      "4      日經225  20058.41    143.63     0.72%     09:48\n",
      "5       東證一部   1452.11      5.56     0.38%     09:47\n",
      "6       東證二部   5745.13     13.80     0.24%     09:48\n",
      "7     JASDAQ    151.42      0.98     0.65%     09:47\n",
      "8       韓國股市   1916.94     -8.02    -0.42%     10:08\n",
      "9       台灣加權  10780.88      0.00     0.00%     13:33\n",
      "10      台灣店頭    140.65      0.00     0.00%     13:33\n",
      "11      上海綜合   2869.93     -0.41    -0.01%     09:07\n",
      "12      上海A股   3008.37     -0.43    -0.01%     09:06\n",
      "13      上海B股    198.87      0.98     0.49%     09:07\n",
      "14      深圳A股   1889.58    -18.03    -0.94%     16:29\n",
      "15      深圳B股    831.88     11.18     1.36%     16:29\n",
      "16     滬深300   3924.61     -0.60    -0.02%     09:07\n",
      "17      深證成指  10962.15   -112.45    -1.01%     16:29\n",
      "18      中小板指   7163.63    -95.44    -1.31%     16:29\n",
      "19      創業板指   2117.65    -23.03    -1.08%     16:29\n",
      "20      香港恆生  23829.74   -350.56    -1.45%     16:00\n",
      "21      香港國企   9687.10   -148.61    -1.51%     16:08\n",
      "22      香港紅籌   3733.87    -51.77    -1.37%     16:08\n",
      "23     香港創業板     75.32     -2.02    -2.62%     16:23\n",
      "24       新加坡   2522.31      0.00     0.00%     17:20\n",
      "25       菲律賓   5654.70     28.45     0.51%     13:00\n",
      "26      馬來西亞   1402.43      5.18     0.37%     09:08\n",
      "27      越南股市    832.40     -1.81    -0.22%     15:01\n",
      "28      泰國股市   1280.40    -14.15    -1.09%     16:52\n",
      "29      印尼股市   4513.83    -40.52    -0.89%     15:15\n",
      "30      印度股市  31122.89   -885.72    -2.77%     17:53\n"
     ]
    }
   ],
   "source": [
    "import pandas as pd\n",
    "\n",
    "url = 'http://www.stockq.org/'\n",
    "table_list = pd.read_html(url)\n",
    "print(table_list[9])\n",
    "table_list[9].to_csv('stock_q_table.csv', encoding='utf-8-sig')"
   ]
  },
  {
   "cell_type": "code",
   "execution_count": null,
   "metadata": {},
   "outputs": [],
   "source": []
  }
 ],
 "metadata": {
  "kernelspec": {
   "display_name": "Python 3",
   "language": "python",
   "name": "python3"
  },
  "language_info": {
   "codemirror_mode": {
    "name": "ipython",
    "version": 3
   },
   "file_extension": ".py",
   "mimetype": "text/x-python",
   "name": "python",
   "nbconvert_exporter": "python",
   "pygments_lexer": "ipython3",
   "version": "3.7.6"
  }
 },
 "nbformat": 4,
 "nbformat_minor": 2
}
