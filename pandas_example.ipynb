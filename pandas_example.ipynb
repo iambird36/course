{
 "cells": [
  {
   "cell_type": "markdown",
   "metadata": {},
   "source": [
    "# Pandas Series/Dataframe/Panel"
   ]
  },
  {
   "cell_type": "code",
   "execution_count": 1,
   "metadata": {},
   "outputs": [
    {
     "name": "stdout",
     "output_type": "stream",
     "text": [
      "0    0.1\n",
      "1    0.2\n",
      "2    0.3\n",
      "3    0.4\n",
      "dtype: float64\n",
      "a    0.1\n",
      "b    0.2\n",
      "c    0.3\n",
      "d    0.4\n",
      "dtype: float64\n"
     ]
    },
    {
     "ename": "TypeError",
     "evalue": "random() takes at most 1 positional argument (2 given)",
     "output_type": "error",
     "traceback": [
      "\u001b[1;31m---------------------------------------------------------------------------\u001b[0m",
      "\u001b[1;31mTypeError\u001b[0m                                 Traceback (most recent call last)",
      "\u001b[1;32m<ipython-input-1-57ac50b9073c>\u001b[0m in \u001b[0;36m<module>\u001b[1;34m\u001b[0m\n\u001b[0;32m      7\u001b[0m \u001b[1;33m\u001b[0m\u001b[0m\n\u001b[0;32m      8\u001b[0m \u001b[0mdf1\u001b[0m \u001b[1;33m=\u001b[0m \u001b[0mpd\u001b[0m\u001b[1;33m.\u001b[0m\u001b[0mDataFrame\u001b[0m\u001b[1;33m(\u001b[0m\u001b[0mnp\u001b[0m\u001b[1;33m.\u001b[0m\u001b[0mrandom\u001b[0m\u001b[1;33m.\u001b[0m\u001b[0mrandn\u001b[0m\u001b[1;33m(\u001b[0m\u001b[1;36m6\u001b[0m\u001b[1;33m,\u001b[0m\u001b[1;36m4\u001b[0m\u001b[1;33m)\u001b[0m\u001b[1;33m)\u001b[0m\u001b[1;33m\u001b[0m\u001b[0m\n\u001b[1;32m----> 9\u001b[1;33m \u001b[0mdf2\u001b[0m \u001b[1;33m=\u001b[0m \u001b[0mpd\u001b[0m\u001b[1;33m.\u001b[0m\u001b[0mDataFrame\u001b[0m\u001b[1;33m(\u001b[0m\u001b[0mnp\u001b[0m\u001b[1;33m.\u001b[0m\u001b[0mrandom\u001b[0m\u001b[1;33m.\u001b[0m\u001b[0mrandom\u001b[0m\u001b[1;33m(\u001b[0m\u001b[1;36m6\u001b[0m\u001b[1;33m,\u001b[0m\u001b[1;36m4\u001b[0m\u001b[1;33m)\u001b[0m\u001b[1;33m)\u001b[0m\u001b[1;33m\u001b[0m\u001b[0m\n\u001b[0m\u001b[0;32m     10\u001b[0m \u001b[1;33m\u001b[0m\u001b[0m\n\u001b[0;32m     11\u001b[0m \u001b[0mprint\u001b[0m\u001b[1;33m(\u001b[0m\u001b[0mdf1\u001b[0m\u001b[1;33m)\u001b[0m\u001b[1;33m\u001b[0m\u001b[0m\n",
      "\u001b[1;32mmtrand.pyx\u001b[0m in \u001b[0;36mnumpy.random.mtrand.RandomState.random\u001b[1;34m()\u001b[0m\n",
      "\u001b[1;31mTypeError\u001b[0m: random() takes at most 1 positional argument (2 given)"
     ]
    }
   ],
   "source": [
    "import pandas as pd\n",
    "import numpy as np\n",
    "s = pd.Series([0.1, 0.2, 0.3, 0.4])\n",
    "print(s)\n",
    "s = pd.Series([0.1, 0.2, 0.3, 0.4], index=['a', 'b', 'c', 'd'])\n",
    "print(s)\n",
    "\n",
    "df1 = pd.DataFrame(np.random.randn(6,4))\n",
    "df2 = pd.DataFrame(np.random.random(6,4))\n",
    "\n",
    "print(df1)\n",
    "print(df2)\n",
    "\n",
    "df = pd.DataFrame(np.random.randn(6,4), columns=['a', 'b', 'c', 'd'], index=['x', 'y', 'z', 'p', 'q', 'r'])\n",
    "print(df)\n"
   ]
  },
  {
   "cell_type": "markdown",
   "metadata": {},
   "source": [
    "# Create Dataframe from List/Dict"
   ]
  },
  {
   "cell_type": "code",
   "execution_count": 3,
   "metadata": {},
   "outputs": [
    {
     "name": "stdout",
     "output_type": "stream",
     "text": [
      "create dataframe from list\n",
      "    name  math score  english score\n",
      "0  isaac          60             50\n",
      "1  julie          90             70\n",
      "2   alex          30             40\n",
      "create dataframe from dict\n",
      "    name  math score  english score\n",
      "0  isaac          60             50\n",
      "1  julie          90             70\n",
      "2   alex          30             40\n"
     ]
    }
   ],
   "source": [
    "import pandas as pd\n",
    "\n",
    "my_list = [('isaac', 60, 50),('julie', 90, 70),('alex', 30, 40)]\n",
    "header = ['name','math score','english score']\n",
    "df_from_list = pd.DataFrame.from_records(my_list, columns=header)\n",
    "\n",
    "print('create dataframe from list')\n",
    "print(df_from_list)\n",
    "\n",
    "\n",
    "\n",
    "my_dict = \\\n",
    "[{'name':'isaac', 'math score':60,'english score':50},\n",
    "{'name':'julie', 'math score':90,'english score':70},\n",
    "{'name':'alex', 'math score':30,'english score':40}\n",
    "]\n",
    "\n",
    "df_from_dict = pd.DataFrame(my_dict, columns=['name', 'math score', 'english score'])\n",
    "\n",
    "print('create dataframe from dict')\n",
    "print(df_from_dict)"
   ]
  },
  {
   "cell_type": "markdown",
   "metadata": {},
   "source": [
    "# Read/Write CSV File"
   ]
  },
  {
   "cell_type": "code",
   "execution_count": 3,
   "metadata": {},
   "outputs": [
    {
     "name": "stdout",
     "output_type": "stream",
     "text": [
      "   Season  Daynum  Wteam  Wscore  Lteam  Lscore Wloc  Numot\n",
      "0    1985      20   1228      81   1328      64    N      0\n",
      "1    1985      25   1106      77   1354      70    H      0\n",
      "2    1985      25   1112      63   1223      56    H      0\n",
      "3    1985      25   1165      70   1432      54    H      0\n",
      "4    1985      25   1192      86   1447      74    H      0\n"
     ]
    }
   ],
   "source": [
    "df = pd.read_csv('RegularSeasonCompactResults.csv')\n",
    "#df = pd.read_csv('RegularSeasonCompactResults.csv', header=None)\n",
    "\n",
    "# print first five row\n",
    "print(df.head())\n",
    "\n",
    "# save dataframe to a csv file\n",
    "df.to_csv('dfnew.csv', index=False)\n",
    "#df.to_csv('dfnew.csv', index=False, header=False)\n",
    "#sep=','"
   ]
  },
  {
   "cell_type": "markdown",
   "metadata": {},
   "source": [
    "# Basic Manipulate"
   ]
  },
  {
   "cell_type": "code",
   "execution_count": 4,
   "metadata": {},
   "outputs": [],
   "source": [
    "df = pd.read_csv('RegularSeasonCompactResults.csv')"
   ]
  },
  {
   "cell_type": "code",
   "execution_count": 5,
   "metadata": {},
   "outputs": [
    {
     "name": "stdout",
     "output_type": "stream",
     "text": [
      "(145289, 8)\n"
     ]
    }
   ],
   "source": [
    "print(df.shape)"
   ]
  },
  {
   "cell_type": "code",
   "execution_count": 6,
   "metadata": {},
   "outputs": [
    {
     "name": "stdout",
     "output_type": "stream",
     "text": [
      "   Season  Daynum  Wteam  Wscore  Lteam  Lscore Wloc  Numot\n",
      "0    1985      20   1228      81   1328      64    N      0\n",
      "1    1985      25   1106      77   1354      70    H      0\n",
      "2    1985      25   1112      63   1223      56    H      0\n",
      "3    1985      25   1165      70   1432      54    H      0\n",
      "4    1985      25   1192      86   1447      74    H      0\n",
      "5    1985      25   1218      79   1337      78    H      0\n",
      "6    1985      25   1228      64   1226      44    N      0\n",
      "7    1985      25   1242      58   1268      56    N      0\n",
      "8    1985      25   1260      98   1133      80    H      0\n",
      "9    1985      25   1305      97   1424      89    H      0\n"
     ]
    }
   ],
   "source": [
    "print(df.head(10))"
   ]
  },
  {
   "cell_type": "code",
   "execution_count": 7,
   "metadata": {},
   "outputs": [
    {
     "name": "stdout",
     "output_type": "stream",
     "text": [
      "        Season  Daynum  Wteam  Wscore  Lteam  Lscore Wloc  Numot\n",
      "145284    2016     132   1114      70   1419      50    N      0\n",
      "145285    2016     132   1163      72   1272      58    N      0\n",
      "145286    2016     132   1246      82   1401      77    N      1\n",
      "145287    2016     132   1277      66   1345      62    N      0\n",
      "145288    2016     132   1386      87   1433      74    N      0\n"
     ]
    }
   ],
   "source": [
    "print(df.tail())"
   ]
  },
  {
   "cell_type": "code",
   "execution_count": 8,
   "metadata": {},
   "outputs": [
    {
     "name": "stdout",
     "output_type": "stream",
     "text": [
      "              Season         Daynum          Wteam         Wscore  \\\n",
      "count  145289.000000  145289.000000  145289.000000  145289.000000   \n",
      "mean     2001.574834      75.223816    1286.720646      76.600321   \n",
      "std         9.233342      33.287418     104.570275      12.173033   \n",
      "min      1985.000000       0.000000    1101.000000      34.000000   \n",
      "25%      1994.000000      47.000000    1198.000000      68.000000   \n",
      "50%      2002.000000      78.000000    1284.000000      76.000000   \n",
      "75%      2010.000000     103.000000    1379.000000      84.000000   \n",
      "max      2016.000000     132.000000    1464.000000     186.000000   \n",
      "\n",
      "               Lteam         Lscore          Numot  \n",
      "count  145289.000000  145289.000000  145289.000000  \n",
      "mean     1282.864064      64.497009       0.044387  \n",
      "std       104.829234      11.380625       0.247819  \n",
      "min      1101.000000      20.000000       0.000000  \n",
      "25%      1191.000000      57.000000       0.000000  \n",
      "50%      1280.000000      64.000000       0.000000  \n",
      "75%      1375.000000      72.000000       0.000000  \n",
      "max      1464.000000     150.000000       6.000000  \n"
     ]
    }
   ],
   "source": [
    "print(df.describe())"
   ]
  },
  {
   "cell_type": "code",
   "execution_count": 9,
   "metadata": {},
   "outputs": [
    {
     "name": "stdout",
     "output_type": "stream",
     "text": [
      "Season    2016\n",
      "Daynum     132\n",
      "Wteam     1464\n",
      "Wscore     186\n",
      "Lteam     1464\n",
      "Lscore     150\n",
      "Wloc         N\n",
      "Numot        6\n",
      "dtype: object\n"
     ]
    }
   ],
   "source": [
    "print(df.max())"
   ]
  },
  {
   "cell_type": "code",
   "execution_count": 10,
   "metadata": {},
   "outputs": [
    {
     "name": "stdout",
     "output_type": "stream",
     "text": [
      "print Wscore max and Lscore mean\n",
      "186\n",
      "64.49700940883343\n"
     ]
    }
   ],
   "source": [
    "print('print Wscore max and Lscore mean')\n",
    "print(df['Wscore'].max())\n",
    "print(df['Lscore'].mean())"
   ]
  },
  {
   "cell_type": "code",
   "execution_count": 11,
   "metadata": {},
   "outputs": [
    {
     "name": "stdout",
     "output_type": "stream",
     "text": [
      "print first three row of dataframe\n",
      "   Season  Daynum  Wteam  Wscore  Lteam  Lscore Wloc  Numot\n",
      "0    1985      20   1228      81   1328      64    N      0\n",
      "1    1985      25   1106      77   1354      70    H      0\n",
      "2    1985      25   1112      63   1223      56    H      0\n"
     ]
    }
   ],
   "source": [
    "# use iloc(integer-location based indexing for selection by position) to access row\n",
    "\n",
    "print('print first three row of dataframe')\n",
    "print(df.iloc[:3])"
   ]
  },
  {
   "cell_type": "code",
   "execution_count": 12,
   "metadata": {},
   "outputs": [
    {
     "name": "stdout",
     "output_type": "stream",
     "text": [
      "   Wscore  Lscore\n",
      "0      81      64\n",
      "1      77      70\n",
      "2      63      56\n",
      "3      70      54\n",
      "4      86      74\n"
     ]
    }
   ],
   "source": [
    "print(df[['Wscore', 'Lscore']].head())"
   ]
  },
  {
   "cell_type": "code",
   "execution_count": 13,
   "metadata": {},
   "outputs": [
    {
     "name": "stdout",
     "output_type": "stream",
     "text": [
      "print Wscore that is greater than 150\n",
      "       Season  Daynum  Wteam  Wscore  Lteam  Lscore Wloc  Numot\n",
      "5269     1986      75   1258     151   1109     107    H      0\n",
      "12046    1988      40   1328     152   1147      84    H      0\n",
      "12355    1988      52   1328     151   1173      99    N      0\n",
      "16040    1989      40   1328     152   1331     122    H      0\n",
      "16853    1989      68   1258     162   1109     144    A      0\n",
      "17867    1989      92   1258     181   1109     150    H      0\n",
      "19653    1990      30   1328     173   1109     101    H      0\n",
      "19971    1990      38   1258     152   1109     137    A      0\n",
      "20022    1990      40   1116     166   1109     101    H      0\n",
      "22145    1990      97   1258     157   1362     115    H      0\n",
      "23582    1991      26   1318     152   1258     123    N      0\n",
      "24341    1991      47   1328     172   1258     112    H      0\n",
      "24970    1991      68   1258     186   1109     140    H      0\n",
      "25656    1991      84   1106     151   1212      97    H      0\n",
      "28687    1992      54   1261     159   1319      86    H      0\n",
      "35023    1993     112   1380     155   1341      91    A      0\n",
      "40060    1995      32   1375     156   1341     114    H      0\n",
      "52600    1998      33   1395     153   1410      87    H      0\n"
     ]
    }
   ],
   "source": [
    "print('print Wscore that is greater than 150')\n",
    "print(df[df['Wscore'] > 150])"
   ]
  },
  {
   "cell_type": "code",
   "execution_count": 14,
   "metadata": {},
   "outputs": [
    {
     "name": "stdout",
     "output_type": "stream",
     "text": [
      "print Wscore that is greater than 150 and Lscore is less than 100\n"
     ]
    },
    {
     "data": {
      "text/html": [
       "<div>\n",
       "<style scoped>\n",
       "    .dataframe tbody tr th:only-of-type {\n",
       "        vertical-align: middle;\n",
       "    }\n",
       "\n",
       "    .dataframe tbody tr th {\n",
       "        vertical-align: top;\n",
       "    }\n",
       "\n",
       "    .dataframe thead th {\n",
       "        text-align: right;\n",
       "    }\n",
       "</style>\n",
       "<table border=\"1\" class=\"dataframe\">\n",
       "  <thead>\n",
       "    <tr style=\"text-align: right;\">\n",
       "      <th></th>\n",
       "      <th>Season</th>\n",
       "      <th>Daynum</th>\n",
       "      <th>Wteam</th>\n",
       "      <th>Wscore</th>\n",
       "      <th>Lteam</th>\n",
       "      <th>Lscore</th>\n",
       "      <th>Wloc</th>\n",
       "      <th>Numot</th>\n",
       "    </tr>\n",
       "  </thead>\n",
       "  <tbody>\n",
       "    <tr>\n",
       "      <th>12046</th>\n",
       "      <td>1988</td>\n",
       "      <td>40</td>\n",
       "      <td>1328</td>\n",
       "      <td>152</td>\n",
       "      <td>1147</td>\n",
       "      <td>84</td>\n",
       "      <td>H</td>\n",
       "      <td>0</td>\n",
       "    </tr>\n",
       "    <tr>\n",
       "      <th>12355</th>\n",
       "      <td>1988</td>\n",
       "      <td>52</td>\n",
       "      <td>1328</td>\n",
       "      <td>151</td>\n",
       "      <td>1173</td>\n",
       "      <td>99</td>\n",
       "      <td>N</td>\n",
       "      <td>0</td>\n",
       "    </tr>\n",
       "    <tr>\n",
       "      <th>25656</th>\n",
       "      <td>1991</td>\n",
       "      <td>84</td>\n",
       "      <td>1106</td>\n",
       "      <td>151</td>\n",
       "      <td>1212</td>\n",
       "      <td>97</td>\n",
       "      <td>H</td>\n",
       "      <td>0</td>\n",
       "    </tr>\n",
       "    <tr>\n",
       "      <th>28687</th>\n",
       "      <td>1992</td>\n",
       "      <td>54</td>\n",
       "      <td>1261</td>\n",
       "      <td>159</td>\n",
       "      <td>1319</td>\n",
       "      <td>86</td>\n",
       "      <td>H</td>\n",
       "      <td>0</td>\n",
       "    </tr>\n",
       "    <tr>\n",
       "      <th>35023</th>\n",
       "      <td>1993</td>\n",
       "      <td>112</td>\n",
       "      <td>1380</td>\n",
       "      <td>155</td>\n",
       "      <td>1341</td>\n",
       "      <td>91</td>\n",
       "      <td>A</td>\n",
       "      <td>0</td>\n",
       "    </tr>\n",
       "    <tr>\n",
       "      <th>52600</th>\n",
       "      <td>1998</td>\n",
       "      <td>33</td>\n",
       "      <td>1395</td>\n",
       "      <td>153</td>\n",
       "      <td>1410</td>\n",
       "      <td>87</td>\n",
       "      <td>H</td>\n",
       "      <td>0</td>\n",
       "    </tr>\n",
       "  </tbody>\n",
       "</table>\n",
       "</div>"
      ],
      "text/plain": [
       "       Season  Daynum  Wteam  Wscore  Lteam  Lscore Wloc  Numot\n",
       "12046    1988      40   1328     152   1147      84    H      0\n",
       "12355    1988      52   1328     151   1173      99    N      0\n",
       "25656    1991      84   1106     151   1212      97    H      0\n",
       "28687    1992      54   1261     159   1319      86    H      0\n",
       "35023    1993     112   1380     155   1341      91    A      0\n",
       "52600    1998      33   1395     153   1410      87    H      0"
      ]
     },
     "execution_count": 14,
     "metadata": {},
     "output_type": "execute_result"
    }
   ],
   "source": [
    "print('print Wscore that is greater than 150 and Lscore is less than 100')\n",
    "df[(df['Wscore'] > 150) & (df['Lscore'] < 100)]"
   ]
  },
  {
   "cell_type": "markdown",
   "metadata": {},
   "source": [
    "# Add/Drop Pandas Row/Column"
   ]
  },
  {
   "cell_type": "code",
   "execution_count": 15,
   "metadata": {},
   "outputs": [
    {
     "name": "stdout",
     "output_type": "stream",
     "text": [
      "    name  math score  english score\n",
      "0  isaac          60             50\n",
      "1  julie          90             70\n",
      "2   alex          30             40\n",
      "add a new row\n",
      "    name  math score  english score\n",
      "0  isaac          60             50\n",
      "1  julie          90             70\n",
      "2   alex          30             40\n",
      "3    leo          70             50\n",
      "drop a row\n",
      "    name  math score  english score\n",
      "0  isaac          60             50\n",
      "1  julie          90             70\n",
      "2    leo          70             50\n",
      "add a new column\n",
      "    name  math score  english score  chinese score\n",
      "0  isaac          60             50             50\n",
      "1  julie          90             70             70\n",
      "2    leo          70             50             60\n",
      "drop a column\n",
      "    name  english score  chinese score\n",
      "0  isaac             50             50\n",
      "1  julie             70             70\n",
      "2    leo             50             60\n"
     ]
    }
   ],
   "source": [
    "import pandas as pd\n",
    "\n",
    "my_list = [('isaac', 60, 50),('julie', 90, 70),('alex', 30, 40)]\n",
    "header = ['name','math score','english score']\n",
    "df_from_list = pd.DataFrame.from_records(my_list, columns=header)\n",
    "\n",
    "print(df_from_list)\n",
    "\n",
    "\n",
    "new_row = pd.DataFrame([['leo', 70, 50]], columns=df_from_list.columns.tolist() )\n",
    "\n",
    "print('add a new row')\n",
    "# add a new row\n",
    "df = df_from_list.append(new_row, ignore_index=True)\n",
    "print(df)\n",
    "\n",
    "print('drop a row')\n",
    "# drop a row\n",
    "df = df.drop([2], axis=0)\n",
    "df = df.reset_index(drop=True)\n",
    "print(df)\n",
    "\n",
    "print('add a new column')\n",
    "# add a new column\n",
    "df['chinese score'] = pd.Series([ 50, 70, 60])\n",
    "print(df)\n",
    "\n",
    "print('drop a column')\n",
    "# drop a column\n",
    "df = df.drop(['math score'], axis=1)\n",
    "print(df)"
   ]
  },
  {
   "cell_type": "markdown",
   "metadata": {},
   "source": [
    "# Missing Value"
   ]
  },
  {
   "cell_type": "code",
   "execution_count": 16,
   "metadata": {},
   "outputs": [
    {
     "name": "stdout",
     "output_type": "stream",
     "text": [
      "origin dataframe\n",
      "   size  number_room  house_price house_type\n",
      "0  40.0          3.0          800        old\n",
      "1  29.0          5.0          700      young\n",
      "2  33.0          2.0          670      young\n",
      "3   NaN          2.0          770        old\n",
      "4   NaN          NaN          870      young\n",
      "drop row that contain any missing value\n",
      "   size  number_room  house_price house_type\n",
      "0  40.0          3.0          800        old\n",
      "1  29.0          5.0          700      young\n",
      "2  33.0          2.0          670      young\n",
      "fill missing value with mean\n",
      "   size  number_room  house_price house_type\n",
      "0  40.0          3.0          800        old\n",
      "1  29.0          5.0          700      young\n",
      "2  33.0          2.0          670      young\n",
      "3  34.0          2.0          770        old\n",
      "4  34.0          NaN          870      young\n"
     ]
    }
   ],
   "source": [
    "import pandas as pd\n",
    "\n",
    "# load csv file\n",
    "df = pd.read_csv('na_demo.csv')\n",
    "\n",
    "print('origin dataframe')\n",
    "print(df)\n",
    "\n",
    "print('drop row that contain any missing value')\n",
    "# drop row that contain any missing value\n",
    "df_no_missing = df.dropna()\n",
    "print(df_no_missing)\n",
    "\n",
    "print('fill missing value with mean')\n",
    "# fill missing value with mean \n",
    "df[\"size\"].fillna(df[\"size\"].mean(), inplace=True)\n",
    "print(df)"
   ]
  },
  {
   "cell_type": "markdown",
   "metadata": {},
   "source": [
    "# Encoding categorical features"
   ]
  },
  {
   "cell_type": "code",
   "execution_count": 17,
   "metadata": {},
   "outputs": [
    {
     "name": "stdout",
     "output_type": "stream",
     "text": [
      "origin dataframe\n",
      "   size  number_room  house_price house_type\n",
      "0  40.0          3.0          800        old\n",
      "1  29.0          5.0          700      young\n",
      "2  33.0          2.0          670      young\n",
      "3   NaN          2.0          770        old\n",
      "4   NaN          NaN          870      young\n",
      "encode category\n",
      "   size  number_room  house_price  house_type\n",
      "0  40.0          3.0          800           0\n",
      "1  29.0          5.0          700           1\n",
      "2  33.0          2.0          670           1\n",
      "3   NaN          2.0          770           0\n",
      "4   NaN          NaN          870           1\n"
     ]
    }
   ],
   "source": [
    "import pandas as pd\n",
    "\n",
    "# load csv file\n",
    "df = pd.read_csv('na_demo.csv')\n",
    "\n",
    "print('origin dataframe')\n",
    "print(df)\n",
    "\n",
    "print('encode category')\n",
    "df['house_type'] = pd.Categorical(df['house_type']).codes\n",
    "print(df)"
   ]
  },
  {
   "cell_type": "markdown",
   "metadata": {},
   "source": [
    "# Apply"
   ]
  },
  {
   "cell_type": "code",
   "execution_count": 18,
   "metadata": {},
   "outputs": [
    {
     "name": "stdout",
     "output_type": "stream",
     "text": [
      "   Season  Daynum  Wteam  Wscore  Lteam  Lscore Wloc  Numot\n",
      "0    1985      20   1228      81   1328      64    N      0\n",
      "1    1985      25   1106      77   1354      70    H      0\n",
      "2    1985      25   1112      63   1223      56    H      0\n",
      "3    1985      25   1165      70   1432      54    H      0\n",
      "4    1985      25   1192      86   1447      74    H      0\n",
      "   Season  Daynum  Wteam      Wscore  Lteam  Lscore Wloc  Numot\n",
      "0    1985      20   1228  high score   1328      64    N      0\n",
      "1    1985      25   1106  high score   1354      70    H      0\n",
      "2    1985      25   1112   low score   1223      56    H      0\n",
      "3    1985      25   1165   low score   1432      54    H      0\n",
      "4    1985      25   1192  high score   1447      74    H      0\n",
      "==================\n",
      "   Season  Daynum  Wteam  Wscore  Lteam  Lscore Wloc  Numot\n",
      "0    1985      20   1228      81   1328      64    N      0\n",
      "1    1985      25   1106      77   1354      70    H      0\n",
      "2    1985      25   1112      63   1223      56    H      0\n",
      "3    1985      25   1165      70   1432      54    H      0\n",
      "4    1985      25   1192      86   1447      74    H      0\n",
      "   Season  Daynum  Wteam       Wscore  Lteam  Lscore Wloc  Numot\n",
      "0    1985      20   1228  hight score   1328      64    N      0\n",
      "1    1985      25   1106  hight score   1354      70    H      0\n",
      "2    1985      25   1112    low score   1223      56    H      0\n",
      "3    1985      25   1165    low score   1432      54    H      0\n",
      "4    1985      25   1192  hight score   1447      74    H      0\n"
     ]
    }
   ],
   "source": [
    "import pandas as pd\n",
    "\n",
    "df = pd.read_csv('RegularSeasonCompactResults.csv')\n",
    "print(df.head())\n",
    "\n",
    "df['Wscore'] = df['Wscore'].apply(lambda x: 'high score' if x>70 else 'low score')\n",
    "print(df.head())\n",
    "\n",
    "print('==================')\n",
    "\n",
    "df = pd.read_csv('RegularSeasonCompactResults.csv')\n",
    "print(df.head())\n",
    "\n",
    "def add_one(x):\n",
    "    if x > 70:\n",
    "        return 'hight score'\n",
    "    else:\n",
    "        return 'low score'\n",
    "    \n",
    "\n",
    "df['Wscore'] = df['Wscore'].apply(add_one)\n",
    "print(df.head())"
   ]
  },
  {
   "cell_type": "markdown",
   "metadata": {},
   "source": [
    "# Merge"
   ]
  },
  {
   "cell_type": "code",
   "execution_count": 20,
   "metadata": {},
   "outputs": [
    {
     "name": "stdout",
     "output_type": "stream",
     "text": [
      "first dataframe is:\n",
      "  student name  math score\n",
      "0        isaac         100\n",
      "1        kevin          70\n",
      "2         jack          90\n",
      "3         judy          75\n",
      "second dataframe is:\n",
      "  student name  english score\n",
      "0        isaac             70\n",
      "1         jack             33\n",
      "2         judy             89\n",
      "3        kevin             64\n",
      "4         alex             99\n"
     ]
    }
   ],
   "source": [
    "import pandas as pd\n",
    "\n",
    "df1 = pd.read_csv('merge1.csv')\n",
    "df2 = pd.read_csv('merge2.csv')\n",
    "\n",
    "print('first dataframe is:')\n",
    "print(df1.head())\n",
    "\n",
    "print('second dataframe is:')\n",
    "print(df2.head())\n"
   ]
  },
  {
   "cell_type": "code",
   "execution_count": 21,
   "metadata": {},
   "outputs": [
    {
     "name": "stdout",
     "output_type": "stream",
     "text": [
      "\n",
      "inner merge\n",
      "\n",
      "  student name  math score  english score\n",
      "0        isaac         100             70\n",
      "1        kevin          70             64\n",
      "2         jack          90             33\n",
      "3         judy          75             89\n"
     ]
    }
   ],
   "source": [
    "print('\\ninner merge\\n')\n",
    "inner_merge = pd.merge(df1, df2, on='student name')\n",
    "print(inner_merge.head())"
   ]
  },
  {
   "cell_type": "code",
   "execution_count": 22,
   "metadata": {},
   "outputs": [
    {
     "name": "stdout",
     "output_type": "stream",
     "text": [
      "\n",
      "outer merge\n",
      "\n",
      "  student name  math score  english score\n",
      "0        isaac       100.0             70\n",
      "1        kevin        70.0             64\n",
      "2         jack        90.0             33\n",
      "3         judy        75.0             89\n",
      "4         alex         NaN             99\n"
     ]
    }
   ],
   "source": [
    "print('\\nouter merge\\n')\n",
    "outer_merge = pd.merge(df1, df2, on='student name', how='outer')\n",
    "print(outer_merge.head())"
   ]
  },
  {
   "cell_type": "markdown",
   "metadata": {},
   "source": [
    "# Append"
   ]
  },
  {
   "cell_type": "code",
   "execution_count": 24,
   "metadata": {},
   "outputs": [
    {
     "name": "stdout",
     "output_type": "stream",
     "text": [
      "first dataframe is:\n",
      "  student name  math score\n",
      "0        isaac         100\n",
      "1        kevin          70\n",
      "2         jack          90\n",
      "3         judy          75\n",
      "second dataframe is:\n",
      "  student name  math score\n",
      "0        salad          13\n",
      "1         lily          75\n",
      "  student name  math score\n",
      "0        isaac         100\n",
      "1        kevin          70\n",
      "2         jack          90\n",
      "3         judy          75\n",
      "0        salad          13\n",
      "1         lily          75\n",
      "  student name  math score\n",
      "0        isaac         100\n",
      "1        kevin          70\n",
      "2         jack          90\n",
      "3         judy          75\n",
      "4        salad          13\n",
      "5         lily          75\n"
     ]
    }
   ],
   "source": [
    "import pandas as pd\n",
    "\n",
    "df1 = pd.read_csv('append1.csv')\n",
    "df2 = pd.read_csv('append2.csv')\n",
    "\n",
    "\n",
    "print('first dataframe is:')\n",
    "print(df1)\n",
    "\n",
    "print('second dataframe is:')\n",
    "print(df2)\n",
    "\n",
    "df_append = df1.append(df2)\n",
    "print(df_append)\n",
    "\n",
    "df_append = df1.append(df2, ignore_index=True)\n",
    "print(df_append)\n"
   ]
  },
  {
   "cell_type": "markdown",
   "metadata": {},
   "source": [
    "# Groupby"
   ]
  },
  {
   "cell_type": "code",
   "execution_count": 25,
   "metadata": {},
   "outputs": [
    {
     "name": "stdout",
     "output_type": "stream",
     "text": [
      "   Season  Daynum  Wteam  Wscore  Lteam  Lscore Wloc  Numot\n",
      "0    1985      20   1228      81   1328      64    N      0\n",
      "1    1985      25   1106      77   1354      70    H      0\n",
      "2    1985      25   1112      63   1223      56    H      0\n",
      "3    1985      25   1165      70   1432      54    H      0\n",
      "4    1985      25   1192      86   1447      74    H      0\n",
      "         Season   Daynum      Wteam   Wscore      Lteam   Lscore  Numot\n",
      "Wloc                                                                   \n",
      "A      88529580  3491965   56885271  3307504   56745323  2889768   2455\n",
      "H     173076379  6348360  111306614  6722177  110918450  5543282   3160\n",
      "N      29200847  1088868   18754471  1099503   18722264   937656    834\n",
      "======\n",
      "           Season     Daynum        Wteam     Wscore        Lteam     Lscore  \\\n",
      "Wloc                                                                           \n",
      "A     2001.618395  78.951932  1286.153225  74.781343  1282.989057  65.336499   \n",
      "H     2001.554035  73.416059  1287.213216  77.739092  1282.724266  64.105677   \n",
      "N     2001.566043  74.636233  1285.521352  75.365207  1283.313730  64.271437   \n",
      "\n",
      "         Numot  \n",
      "Wloc            \n",
      "A     0.055507  \n",
      "H     0.036544  \n",
      "N     0.057166  \n"
     ]
    }
   ],
   "source": [
    "import pandas as pd\n",
    "\n",
    "df = pd.read_csv('RegularSeasonCompactResults.csv')\n",
    "print(df.head())\n",
    "print(df.groupby('Wloc').sum())\n",
    "print('======')\n",
    "print(df.groupby('Wloc').mean())"
   ]
  },
  {
   "cell_type": "markdown",
   "metadata": {},
   "source": [
    "# Crawl Data via Pandas "
   ]
  },
  {
   "cell_type": "code",
   "execution_count": 28,
   "metadata": {},
   "outputs": [
    {
     "name": "stdout",
     "output_type": "stream",
     "text": [
      "                        幣別                        現金匯率          \\\n",
      "                        幣別 Unnamed: 1_level_1     本行買入    本行賣出   \n",
      "0       美金 (USD)  美金 (USD)              29.64    30.31   29.99   \n",
      "1       港幣 (HKD)  港幣 (HKD)              3.719    3.923   3.845   \n",
      "2       英鎊 (GBP)  英鎊 (GBP)              35.84    37.96   36.84   \n",
      "3       澳幣 (AUD)  澳幣 (AUD)              18.68    19.46   18.95   \n",
      "4   加拿大幣 (CAD)  加拿大幣 (CAD)              20.82    21.73   21.21   \n",
      "5   新加坡幣 (SGD)  新加坡幣 (SGD)              20.48    21.39   20.97   \n",
      "6   瑞士法郎 (CHF)  瑞士法郎 (CHF)              29.91    31.11   30.57   \n",
      "7       日圓 (JPY)  日圓 (JPY)             0.2699   0.2827  0.2772   \n",
      "8     南非幣 (ZAR)  南非幣 (ZAR)                  -        -   1.528   \n",
      "9     瑞典幣 (SEK)  瑞典幣 (SEK)               2.59     3.11    2.93   \n",
      "10      紐元 (NZD)  紐元 (NZD)              17.51    18.36   17.89   \n",
      "11      泰幣 (THB)  泰幣 (THB)             0.7981   0.9881  0.9105   \n",
      "12  菲國比索 (PHP)  菲國比索 (PHP)             0.5183   0.6513       -   \n",
      "13    印尼幣 (IDR)  印尼幣 (IDR)            0.00163  0.00233       -   \n",
      "14      歐元 (EUR)  歐元 (EUR)              31.51    32.85   32.13   \n",
      "15      韓元 (KRW)  韓元 (KRW)            0.02258  0.02648       -   \n",
      "16    越南盾 (VND)  越南盾 (VND)             0.0009   0.0014       -   \n",
      "17    馬來幣 (MYR)  馬來幣 (MYR)              5.771    7.396       -   \n",
      "18    人民幣 (CNY)  人民幣 (CNY)              4.136    4.298   4.208   \n",
      "\n",
      "   Unnamed: 4_level_0 即期匯率                    Unnamed: 7_level_0     遠期匯率  \\\n",
      "                 本行買入 本行賣出 Unnamed: 6_level_1               本行買入     遠期匯率   \n",
      "0               30.09   查詢                 查詢              29.64    30.31   \n",
      "1               3.905   查詢                 查詢              3.719    3.923   \n",
      "2               37.26   查詢                 查詢              35.84    37.96   \n",
      "3               19.18   查詢                 查詢              18.68    19.46   \n",
      "4               21.43   查詢                 查詢              20.82    21.73   \n",
      "5               21.15   查詢                 查詢              20.48    21.39   \n",
      "6               30.86   查詢                 查詢              29.91    31.11   \n",
      "7              0.2812   查詢                 查詢             0.2699   0.2827   \n",
      "8               1.608   查詢                 查詢                  -        -   \n",
      "9                3.03   查詢                 查詢               2.59     3.11   \n",
      "10              18.09   查詢                 查詢              17.51    18.36   \n",
      "11             0.9505   查詢                 查詢             0.7981   0.9881   \n",
      "12                  -   查詢                 查詢             0.5183   0.6513   \n",
      "13                  -   查詢                 查詢            0.00163  0.00233   \n",
      "14              32.53   查詢                 查詢              31.51    32.85   \n",
      "15                  -   查詢                 查詢            0.02258  0.02648   \n",
      "16                  -   查詢                 查詢             0.0009   0.0014   \n",
      "17                  -   查詢                 查詢              5.771    7.396   \n",
      "18              4.258   查詢                 查詢              4.136    4.298   \n",
      "\n",
      "      歷史匯率           現金匯率        Unnamed: 13_level_0                即期匯率  \\\n",
      "      歷史匯率    本行賣出 本行買入.1 本行賣出.1 Unnamed: 13_level_1 Unnamed: 14_level_1   \n",
      "0    29.99   30.09    NaN    NaN                 NaN                 NaN   \n",
      "1    3.845   3.905    NaN    NaN                 NaN                 NaN   \n",
      "2    36.84   37.26    NaN    NaN                 NaN                 NaN   \n",
      "3    18.95   19.18    NaN    NaN                 NaN                 NaN   \n",
      "4    21.21   21.43    NaN    NaN                 NaN                 NaN   \n",
      "5    20.97   21.15    NaN    NaN                 NaN                 NaN   \n",
      "6    30.57   30.86    NaN    NaN                 NaN                 NaN   \n",
      "7   0.2772  0.2812    NaN    NaN                 NaN                 NaN   \n",
      "8    1.528   1.608    NaN    NaN                 NaN                 NaN   \n",
      "9     2.93    3.03    NaN    NaN                 NaN                 NaN   \n",
      "10   17.89   18.09    NaN    NaN                 NaN                 NaN   \n",
      "11  0.9105  0.9505    NaN    NaN                 NaN                 NaN   \n",
      "12       -       -    NaN    NaN                 NaN                 NaN   \n",
      "13       -       -    NaN    NaN                 NaN                 NaN   \n",
      "14   32.13   32.53    NaN    NaN                 NaN                 NaN   \n",
      "15       -       -    NaN    NaN                 NaN                 NaN   \n",
      "16       -       -    NaN    NaN                 NaN                 NaN   \n",
      "17       -       -    NaN    NaN                 NaN                 NaN   \n",
      "18   4.208   4.258    NaN    NaN                 NaN                 NaN   \n",
      "\n",
      "                       Unnamed: 16_level_0  \n",
      "   Unnamed: 15_level_1 Unnamed: 16_level_1  \n",
      "0                  NaN                 NaN  \n",
      "1                  NaN                 NaN  \n",
      "2                  NaN                 NaN  \n",
      "3                  NaN                 NaN  \n",
      "4                  NaN                 NaN  \n",
      "5                  NaN                 NaN  \n",
      "6                  NaN                 NaN  \n",
      "7                  NaN                 NaN  \n",
      "8                  NaN                 NaN  \n",
      "9                  NaN                 NaN  \n",
      "10                 NaN                 NaN  \n",
      "11                 NaN                 NaN  \n",
      "12                 NaN                 NaN  \n",
      "13                 NaN                 NaN  \n",
      "14                 NaN                 NaN  \n",
      "15                 NaN                 NaN  \n",
      "16                 NaN                 NaN  \n",
      "17                 NaN                 NaN  \n",
      "18                 NaN                 NaN  \n"
     ]
    }
   ],
   "source": [
    "import pandas as pd\n",
    "url = 'http://rate.bot.com.tw/xrt?Lang=zh-TW'\n",
    "df_list = pd.read_html(url)\n",
    "print(df_list[0])"
   ]
  },
  {
   "cell_type": "code",
   "execution_count": null,
   "metadata": {},
   "outputs": [],
   "source": []
  }
 ],
 "metadata": {
  "kernelspec": {
   "display_name": "Python 3",
   "language": "python",
   "name": "python3"
  },
  "language_info": {
   "codemirror_mode": {
    "name": "ipython",
    "version": 3
   },
   "file_extension": ".py",
   "mimetype": "text/x-python",
   "name": "python",
   "nbconvert_exporter": "python",
   "pygments_lexer": "ipython3",
   "version": "3.7.0"
  }
 },
 "nbformat": 4,
 "nbformat_minor": 2
}
